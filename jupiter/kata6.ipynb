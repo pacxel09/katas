{
 "cells": [
  {
   "cell_type": "markdown",
   "metadata": {},
   "source": [
    "ejercicio 1"
   ]
  },
  {
   "cell_type": "code",
   "execution_count": 4,
   "metadata": {},
   "outputs": [
    {
     "name": "stdout",
     "output_type": "stream",
     "text": [
      " hay  8 planets\n",
      "pluton es el ultimo planeta\n"
     ]
    }
   ],
   "source": [
    "planets = ['mercurio', 'venus', 'tierra','marte','jupiter','saturno','urano','neptuno']\n",
    "print(' hay ',len(planets),'planets')\n",
    "planets.append('pluton')\n",
    "print(planets[-1],'es el ultimo planeta')"
   ]
  },
  {
   "cell_type": "markdown",
   "metadata": {},
   "source": [
    "ejercicio 2"
   ]
  },
  {
   "cell_type": "code",
   "execution_count": 5,
   "metadata": {},
   "outputs": [
    {
     "name": "stdout",
     "output_type": "stream",
     "text": [
      "este es el planeta mas cercano marte\n",
      "['mercurio', 'venus', 'tierra']\n",
      "planeta mas lejano a marte\n",
      "['jupiter', 'saturno', 'urano', 'neptuno']\n"
     ]
    }
   ],
   "source": [
    "planet = ['mercurio', 'venus', 'tierra','marte','jupiter','saturno','urano','neptuno']\n",
    "user_planet = input('introduce el nombre del utlimo planeta ')\n",
    "planet_index = planets.index(user_planet)\n",
    "print('este es el planeta mas cercano ' + user_planet)\n",
    "print(planets[0:planet_index])\n",
    "print('planeta mas lejano a ' + user_planet)\n",
    "print(planet[planet_index + 1: ])"
   ]
  }
 ],
 "metadata": {
  "interpreter": {
   "hash": "bba6ddc26a5a234ccb5a580f3b37b792e221f8a34c9f042e4a7b3f408d43b70b"
  },
  "kernelspec": {
   "display_name": "Python 3.9.10 64-bit (windows store)",
   "language": "python",
   "name": "python3"
  },
  "language_info": {
   "codemirror_mode": {
    "name": "ipython",
    "version": 3
   },
   "file_extension": ".py",
   "mimetype": "text/x-python",
   "name": "python",
   "nbconvert_exporter": "python",
   "pygments_lexer": "ipython3",
   "version": "3.9.10"
  },
  "orig_nbformat": 4
 },
 "nbformat": 4,
 "nbformat_minor": 2
}
