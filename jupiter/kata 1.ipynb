{
 "cells": [
  {
   "cell_type": "code",
   "execution_count": 9,
   "metadata": {},
   "outputs": [
    {
     "name": "stdout",
     "output_type": "stream",
     "text": [
      "el dia de hoy es : \n",
      "2022-02-13\n"
     ]
    }
   ],
   "source": [
    "from datetime import date\n",
    "print(\"el dia de hoy es : \\n\" +str(date.today()))"
   ]
  },
  {
   "cell_type": "code",
   "execution_count": 10,
   "metadata": {},
   "outputs": [
    {
     "name": "stdout",
     "output_type": "stream",
     "text": [
      "11 parsec, is 0 años\n",
      "11parsec is 35.877159999999996 años\n"
     ]
    }
   ],
   "source": [
    "parsec = 11\n",
    "\n",
    "años = 0\n",
    "\n",
    "print(str(parsec) + \" parsec, is \" + str(años) + \" años\")\n",
    "parsex = 11\n",
    "años = 3.26156 * parsec\n",
    "print(str(parsec) + \"parsec is \" + str(años) + \" años\" )"
   ]
  }
 ],
 "metadata": {
  "interpreter": {
   "hash": "2e8c2073d2db89ccbeb1555747a707bcf63ed301522a89c492d8426c5b2834d8"
  },
  "kernelspec": {
   "display_name": "Python 3.10.2 64-bit",
   "language": "python",
   "name": "python3"
  },
  "language_info": {
   "codemirror_mode": {
    "name": "ipython",
    "version": 3
   },
   "file_extension": ".py",
   "mimetype": "text/x-python",
   "name": "python",
   "nbconvert_exporter": "python",
   "pygments_lexer": "ipython3",
   "version": "3.10.2"
  },
  "orig_nbformat": 4
 },
 "nbformat": 4,
 "nbformat_minor": 2
}
