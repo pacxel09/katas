{
 "cells": [
  {
   "cell_type": "code",
   "execution_count": 4,
   "metadata": {},
   "outputs": [
    {
     "name": "stdout",
     "output_type": "stream",
     "text": [
      "-628.95\n",
      "-390.57795000000004\n"
     ]
    }
   ],
   "source": [
    " tierra = 149.597000 \n",
    "jupiter = 778.547000\n",
    "distancia = tierra - jupiter\n",
    "print(distancia)\n",
    "millas = distancia * .621\n",
    "print(millas)"
   ]
  },
  {
   "cell_type": "code",
   "execution_count": 5,
   "metadata": {},
   "outputs": [
    {
     "name": "stdout",
     "output_type": "stream",
     "text": [
      "2\n",
      "1.242\n"
     ]
    }
   ],
   "source": [
    "planeta1 = input ('distancia del sol del planeta1')\n",
    "planeta2 = input ('distancia del sol del planeta 2')\n",
    "planeta1 = int(planeta1)\n",
    "planeta2 = int(planeta2)\n",
    "distanciakm =planeta2 - planeta1\n",
    "distanciam = distanciakm * .621\n",
    "print(distanciakm)\n",
    "print (abs (distanciam))"
   ]
  }
 ],
 "metadata": {
  "interpreter": {
   "hash": "bba6ddc26a5a234ccb5a580f3b37b792e221f8a34c9f042e4a7b3f408d43b70b"
  },
  "kernelspec": {
   "display_name": "Python 3.9.10 64-bit (windows store)",
   "language": "python",
   "name": "python3"
  },
  "language_info": {
   "codemirror_mode": {
    "name": "ipython",
    "version": 3
   },
   "file_extension": ".py",
   "mimetype": "text/x-python",
   "name": "python",
   "nbconvert_exporter": "python",
   "pygments_lexer": "ipython3",
   "version": "3.9.10"
  },
  "orig_nbformat": 4
 },
 "nbformat": 4,
 "nbformat_minor": 2
}
