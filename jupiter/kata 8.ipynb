{
 "cells": [
  {
   "cell_type": "code",
   "execution_count": 26,
   "metadata": {},
   "outputs": [
    {
     "name": "stdout",
     "output_type": "stream",
     "text": [
      "marte tiene 2 lunas\n",
      "martesu circunferencia polar es 6752\n"
     ]
    }
   ],
   "source": [
    "planeta= {\n",
    "    'nombre': 'marte',\n",
    "    'lunas': 2\n",
    "}\n",
    "print(f'{planeta[\"nombre\"]} tiene {planeta[\"lunas\"]} lunas')\n",
    "planeta['circunferencia'] = {\n",
    "    'polar' : 6752,\n",
    "    'ecuador' : 6792\n",
    "}\n",
    "print(f'{planeta[\"nombre\"]}su circunferencia polar es {planeta[\"circunferencia\"][\"polar\"]}')"
   ]
  },
  {
   "cell_type": "code",
   "execution_count": 27,
   "metadata": {},
   "outputs": [
    {
     "name": "stdout",
     "output_type": "stream",
     "text": [
      "0.0\n",
      "0.0\n",
      "0.08333333333333333\n",
      "0.25\n",
      "6.833333333333333\n",
      "13.666666666666666\n",
      "15.916666666666666\n",
      "17.083333333333332\n",
      "17.5\n",
      "17.666666666666668\n",
      "17.75\n",
      "17.833333333333332\n"
     ]
    }
   ],
   "source": [
    "lpp = {\n",
    "    'mercury': 0,\n",
    "    'venus': 0,\n",
    "    'earth': 1,\n",
    "    'mars': 2,\n",
    "    'jupiter': 79,\n",
    "    'saturn': 82,\n",
    "    'uranus': 27,\n",
    "    'neptune': 14,\n",
    "    'pluto': 5,\n",
    "    'haumea': 2,\n",
    "    'makemake': 1,\n",
    "    'eris': 1\n",
    "}\n",
    "lunas = lpp.values()\n",
    "planetas = len(lpp.keys())\n",
    "tl = 0\n",
    "for lunas in lunas:\n",
    "    tl = tl + lunas\n",
    "    promedios = tl / planetas\n",
    "    print(promedios)\n"
   ]
  }
 ],
 "metadata": {
  "interpreter": {
   "hash": "bba6ddc26a5a234ccb5a580f3b37b792e221f8a34c9f042e4a7b3f408d43b70b"
  },
  "kernelspec": {
   "display_name": "Python 3.9.10 64-bit (windows store)",
   "language": "python",
   "name": "python3"
  },
  "language_info": {
   "codemirror_mode": {
    "name": "ipython",
    "version": 3
   },
   "file_extension": ".py",
   "mimetype": "text/x-python",
   "name": "python",
   "nbconvert_exporter": "python",
   "pygments_lexer": "ipython3",
   "version": "3.9.10"
  },
  "orig_nbformat": 4
 },
 "nbformat": 4,
 "nbformat_minor": 2
}
