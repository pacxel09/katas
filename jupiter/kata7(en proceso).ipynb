{
 "cells": [
  {
   "cell_type": "code",
   "execution_count": 1,
   "metadata": {},
   "outputs": [
    {
     "ename": "KeyboardInterrupt",
     "evalue": "",
     "output_type": "error",
     "traceback": [
      "\u001b[1;31m---------------------------------------------------------------------------\u001b[0m",
      "\u001b[1;31mKeyboardInterrupt\u001b[0m                         Traceback (most recent call last)",
      "\u001b[1;32mc:\\Users\\pacxe\\Desktop\\VS\\jupiter\\kata7(en proceso).ipynb Cell 1'\u001b[0m in \u001b[0;36m<module>\u001b[1;34m\u001b[0m\n\u001b[0;32m      <a href='vscode-notebook-cell:/c%3A/Users/pacxe/Desktop/VS/jupiter/kata7%28en%20proceso%29.ipynb#ch0000000?line=1'>2</a>\u001b[0m planetas \u001b[39m=\u001b[39m []\n\u001b[0;32m      <a href='vscode-notebook-cell:/c%3A/Users/pacxe/Desktop/VS/jupiter/kata7%28en%20proceso%29.ipynb#ch0000000?line=2'>3</a>\u001b[0m \u001b[39mwhile\u001b[39;00m nuevop\u001b[39m.\u001b[39mlower() \u001b[39m!=\u001b[39m \u001b[39m'\u001b[39m\u001b[39mdone\u001b[39m\u001b[39m'\u001b[39m:\n\u001b[1;32m----> <a href='vscode-notebook-cell:/c%3A/Users/pacxe/Desktop/VS/jupiter/kata7%28en%20proceso%29.ipynb#ch0000000?line=3'>4</a>\u001b[0m     \u001b[39mif\u001b[39;00m nuevop:\n\u001b[0;32m      <a href='vscode-notebook-cell:/c%3A/Users/pacxe/Desktop/VS/jupiter/kata7%28en%20proceso%29.ipynb#ch0000000?line=4'>5</a>\u001b[0m         planetas\u001b[39m.\u001b[39mappend(nuevop)\n\u001b[0;32m      <a href='vscode-notebook-cell:/c%3A/Users/pacxe/Desktop/VS/jupiter/kata7%28en%20proceso%29.ipynb#ch0000000?line=5'>6</a>\u001b[0m         nuevop \u001b[39m=\u001b[39m \u001b[39minput\u001b[39m(\u001b[39m'\u001b[39m\u001b[39mingresa un nuevo planeta\u001b[39m\u001b[39m'\u001b[39m)\n",
      "\u001b[1;31mKeyboardInterrupt\u001b[0m: "
     ]
    }
   ],
   "source": [
    "nuevop = 'vegito'\n",
    "planetas = []\n",
    "while nuevop.lower() != 'done':\n",
    "    if nuevop:\n",
    "        planetas.append(nuevop)\n",
    "        nuevop = input('ingresa un nuevo planeta')\n",
    "        #creo no me salio ;-;\n",
    "for planeta in planetas:\n",
    "    print (nuevop)"
   ]
  }
 ],
 "metadata": {
  "interpreter": {
   "hash": "bba6ddc26a5a234ccb5a580f3b37b792e221f8a34c9f042e4a7b3f408d43b70b"
  },
  "kernelspec": {
   "display_name": "Python 3.9.10 64-bit (windows store)",
   "language": "python",
   "name": "python3"
  },
  "language_info": {
   "codemirror_mode": {
    "name": "ipython",
    "version": 3
   },
   "file_extension": ".py",
   "mimetype": "text/x-python",
   "name": "python",
   "nbconvert_exporter": "python",
   "pygments_lexer": "ipython3",
   "version": "3.9.10"
  },
  "orig_nbformat": 4
 },
 "nbformat": 4,
 "nbformat_minor": 2
}
