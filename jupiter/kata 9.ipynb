{
 "cells": [
  {
   "cell_type": "code",
   "execution_count": 45,
   "metadata": {},
   "outputs": [
    {
     "name": "stdout",
     "output_type": "stream",
     "text": [
      " reporte general:\n",
      "    promedio :78.33333333333333%\n",
      "    Tanque principal: 80%\n",
      "    Tanque externo: 70%\n",
      "    Tanque de hidrogeno: 85\n",
      "    \n"
     ]
    }
   ],
   "source": [
    "def reporte(tanque,tanqueE,tanqueH):\n",
    "    promedio = (tanque + tanqueE + tanqueH) / 3\n",
    "    return f\"\"\" reporte general:\n",
    "    promedio :{promedio}%\n",
    "    Tanque principal: {tanque}%\n",
    "    Tanque externo: {tanqueE}%\n",
    "    Tanque de hidrogeno: {tanqueH}\n",
    "    \"\"\"\n",
    "print(reporte(80,70,85))\n",
    "def promedio(values):\n",
    "    total = sum(values)\n",
    "    items =len(values)\n",
    "    return total / items\n",
    "    promedio([80, 85, 81])"
   ]
  },
  {
   "cell_type": "code",
   "execution_count": 46,
   "metadata": {},
   "outputs": [
    {
     "name": "stdout",
     "output_type": "stream",
     "text": [
      " reporte general:\n",
      "    promedio :78.0%\n",
      "    Tanque principal: 88%\n",
      "    Tanque externo: 76%\n",
      "    Tanque de hidrogeno: 70\n",
      "    \n"
     ]
    }
   ],
   "source": [
    "def reporte(tanque,tanqueE,tanqueH):\n",
    "    return f\"\"\" reporte general:\n",
    "    promedio :{promedio([tanque,tanqueE,tanqueH])}%\n",
    "    Tanque principal: {tanque}%\n",
    "    Tanque externo: {tanqueE}%\n",
    "    Tanque de hidrogeno: {tanqueH}\n",
    "    \"\"\"\n",
    "print(reporte(88,76,70))\n"
   ]
  },
  {
   "cell_type": "markdown",
   "metadata": {},
   "source": [
    "ejercicio 2"
   ]
  },
  {
   "cell_type": "code",
   "execution_count": 47,
   "metadata": {},
   "outputs": [
    {
     "name": "stdout",
     "output_type": "stream",
     "text": [
      "\n",
      "    mision a luna\n",
      "    tiempo total de viaje: 65 minutos\n",
      "    combustible:50000 galones\n",
      "    \n"
     ]
    }
   ],
   "source": [
    "def reporte(prel, tiempov, destino, tanque, tanqueE):\n",
    "    return f\"\"\"\n",
    "    mision a {destino}\n",
    "    tiempo total de viaje: { prel + tiempov } minutos\n",
    "    combustible:{tanqueE + tanque} galones\n",
    "    \"\"\"\n",
    "print(reporte(14,51,\"luna\",20000,30000))\n"
   ]
  },
  {
   "cell_type": "code",
   "execution_count": 48,
   "metadata": {},
   "outputs": [
    {
     "name": "stdout",
     "output_type": "stream",
     "text": [
      "\n",
      "    mision a luna\n",
      "    tiempo total de viaje: 76 minutos\n",
      "    combustible:50000 \n",
      "    \n"
     ]
    }
   ],
   "source": [
    "def reporte( destino, *minutos, **reserva):\n",
    "    return f\"\"\"\n",
    "    mision a {destino}\n",
    "    tiempo total de viaje: { (sum(minutos))} minutos\n",
    "    combustible:{sum(reserva.values())} \n",
    "    \"\"\"\n",
    "print(reporte(\"luna\", 10, 15, 51, main=30000, external=20000))"
   ]
  },
  {
   "cell_type": "code",
   "execution_count": 49,
   "metadata": {},
   "outputs": [
    {
     "name": "stdout",
     "output_type": "stream",
     "text": [
      "\n",
      "    mision a luna\n",
      "    tiempo total de viaje: 74 minutos\n",
      "    combustible:50000 \n",
      "    main tanque ->30000 quedan \n",
      "\n"
     ]
    }
   ],
   "source": [
    "def reporte( destino, *minutos, **reserva):\n",
    "    reporte1 = f\"\"\"\n",
    "    mision a {destino}\n",
    "    tiempo total de viaje: { (sum(minutos))} minutos\n",
    "    combustible:{sum(reserva.values())} \n",
    "    \"\"\"\n",
    "    for tanque,galones in reserva.items():\n",
    "        reporte1 += f\"{tanque} tanque ->{galones} quedan \\n\"\n",
    "        return reporte1\n",
    "print(reporte(\"luna\",8,11,55,main=30000,external=20000))\n",
    "#identificar espacios son equivalentes a los corchetes en otros idiomas"
   ]
  }
 ],
 "metadata": {
  "interpreter": {
   "hash": "bba6ddc26a5a234ccb5a580f3b37b792e221f8a34c9f042e4a7b3f408d43b70b"
  },
  "kernelspec": {
   "display_name": "Python 3.9.10 64-bit (windows store)",
   "language": "python",
   "name": "python3"
  },
  "language_info": {
   "codemirror_mode": {
    "name": "ipython",
    "version": 3
   },
   "file_extension": ".py",
   "mimetype": "text/x-python",
   "name": "python",
   "nbconvert_exporter": "python",
   "pygments_lexer": "ipython3",
   "version": "3.9.10"
  },
  "orig_nbformat": 4
 },
 "nbformat": 4,
 "nbformat_minor": 2
}
