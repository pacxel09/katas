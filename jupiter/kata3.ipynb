{
 "cells": [
  {
   "cell_type": "code",
   "execution_count": 6,
   "metadata": {},
   "outputs": [
    {
     "ename": "SyntaxError",
     "evalue": "invalid syntax (1746754033.py, line 4)",
     "output_type": "error",
     "traceback": [
      "\u001b[1;36m  Input \u001b[1;32mIn [6]\u001b[1;36m\u001b[0m\n\u001b[1;33m    else :\u001b[0m\n\u001b[1;37m    ^\u001b[0m\n\u001b[1;31mSyntaxError\u001b[0m\u001b[1;31m:\u001b[0m invalid syntax\n"
     ]
    }
   ],
   "source": [
    "asteroide = 50 \n",
    "if asteroide > 30:\n",
    "    print('ataque peligroso,colicion destructiva')\n",
    "    else :\n",
    "        print(\"ntp no hace nada\")"
   ]
  },
  {
   "cell_type": "code",
   "execution_count": null,
   "metadata": {},
   "outputs": [],
   "source": [
    "asteroide = 19\n",
    "if asteroide >20:\n",
    "    print(\"el cielo resplandece a mi alrededor\")\n",
    "    elif asteroide == 20:\n",
    "        print(el cielo resplandece a mi alrededor)\n",
    "        else:\n",
    "            print(\"no hay nada que ver\")"
   ]
  },
  {
   "cell_type": "code",
   "execution_count": null,
   "metadata": {},
   "outputs": [
    {
     "ename": "SyntaxError",
     "evalue": "cannot assign to operator (3660179832.py, line 1)",
     "output_type": "error",
     "traceback": [
      "\u001b[1;36m  Input \u001b[1;32mIn [3]\u001b[1;36m\u001b[0m\n\u001b[1;33m    velocidad-A = 25\u001b[0m\n\u001b[1;37m    ^\u001b[0m\n\u001b[1;31mSyntaxError\u001b[0m\u001b[1;31m:\u001b[0m cannot assign to operator\n"
     ]
    }
   ],
   "source": [
    "velocidad-A = 25\n",
    "tam.A = 40\n",
    "if velocidad-A >25 and tam.A > 25:\n",
    "    print(\"Acercandose el peligro viene ya\") \n",
    "    elif velocidad-A >= 20:\n",
    "        print(\"El cielo resplandece a mi alrededor\")\n",
    "        elif tam.A <25:\n",
    "            print(\"sin novedad\")\n",
    "            else\n",
    "            print(\"sin novedad\")"
   ]
  }
 ],
 "metadata": {
  "interpreter": {
   "hash": "2e8c2073d2db89ccbeb1555747a707bcf63ed301522a89c492d8426c5b2834d8"
  },
  "kernelspec": {
   "display_name": "Python 3.10.2 64-bit",
   "language": "python",
   "name": "python3"
  },
  "language_info": {
   "codemirror_mode": {
    "name": "ipython",
    "version": 3
   },
   "file_extension": ".py",
   "mimetype": "text/x-python",
   "name": "python",
   "nbconvert_exporter": "python",
   "pygments_lexer": "ipython3",
   "version": "3.9.10"
  },
  "orig_nbformat": 4
 },
 "nbformat": 4,
 "nbformat_minor": 2
}
